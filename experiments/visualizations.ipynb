{
 "cells": [
  {
   "cell_type": "code",
   "execution_count": null,
   "metadata": {
    "colab": {
     "base_uri": "https://localhost:8080/"
    },
    "executionInfo": {
     "elapsed": 1842,
     "status": "ok",
     "timestamp": 1684328711063,
     "user": {
      "displayName": "Sriharsha Hatwar",
      "userId": "13490491152019938517"
     },
     "user_tz": 240
    },
    "id": "38-JwjkYyHqb",
    "outputId": "7ba908a5-467d-4915-cd85-575570aee81f"
   },
   "outputs": [],
   "source": [
    "from google.colab import drive\n",
    "import os\n",
    "drive.mount('/content/drive/')\n",
    "%cd /content/drive/My\\ Drive/Spring\\ 2023/685/CS685-Project/Visualizations"
   ]
  },
  {
   "cell_type": "code",
   "execution_count": null,
   "metadata": {
    "colab": {
     "base_uri": "https://localhost:8080/",
     "height": 1000
    },
    "executionInfo": {
     "elapsed": 2054,
     "status": "ok",
     "timestamp": 1684331993180,
     "user": {
      "displayName": "Sriharsha Hatwar",
      "userId": "13490491152019938517"
     },
     "user_tz": 240
    },
    "id": "g6NIGc1Fy13F",
    "outputId": "1f5d66d7-86b4-4ec8-dcfa-fc55d8e786f9"
   },
   "outputs": [],
   "source": [
    "import pandas as pd \n",
    "import torch\n",
    "import matplotlib.pyplot as plt\n",
    "import numpy as np\n",
    "\n",
    "df = pd.read_pickle('/content/drive/MyDrive/COMPSCI 685 Project/objective_one_metrics.pickle')\n",
    "title = ['Train Loss', 'Validation Loss', 'Validation Perplexity', 'Validation Bleu Score']\n",
    "label_x = ['Epoch', 'Epoch', 'Epoch', 'Epoch']\n",
    "label_y = ['Train Loss', 'Validation Loss', 'Validation Perplexity', 'Validation Bleu Score']\n",
    "lst = df['metrics']\n",
    "train_loss = None\n",
    "val_loss = None\n",
    "for j in range(0, 4):\n",
    "  val = []\n",
    "  for i in lst:\n",
    "    if torch.is_tensor(i[j]):\n",
    "      val.append(i[j].item())\n",
    "    else:\n",
    "      val.append(i[j])\n",
    "  x = np.arange(0, min(len(val), 20))\n",
    "  y = val[0:len(x)]\n",
    "  if j == 0 : \n",
    "    train_loss = y\n",
    "  elif j == 1:\n",
    "    val_loss = y\n",
    "  plt.plot(x,y, marker = 'o')\n",
    "  plt.xlabel(label_x[j])\n",
    "  plt.ylabel(label_y[j])\n",
    "  plt.title(title[j])\n",
    "  plt.show()\n"
   ]
  },
  {
   "cell_type": "code",
   "execution_count": null,
   "metadata": {
    "colab": {
     "base_uri": "https://localhost:8080/",
     "height": 472
    },
    "executionInfo": {
     "elapsed": 486,
     "status": "ok",
     "timestamp": 1684331996195,
     "user": {
      "displayName": "Sriharsha Hatwar",
      "userId": "13490491152019938517"
     },
     "user_tz": 240
    },
    "id": "4c3cbURoAYsr",
    "outputId": "ef5619a1-130c-4d8f-b2b7-48e9d04df8ca"
   },
   "outputs": [],
   "source": [
    "train_loss\n",
    "val_loss\n",
    "x = list(range(len(train_loss)))\n",
    "ax1 = plt.subplot()\n",
    "plt.plot(x, train_loss, marker = 'o', label=\"Train loss\")\n",
    "plt.plot(x, val_loss, marker = 'x', label=\"Val loss\")\n",
    "plt.xlabel(\"No of epochs\")\n",
    "plt.ylabel(\"Train / Val loss\")\n",
    "plt.title(\"Objective - 1\")\n",
    "ax1.set_xticks(np.arange(len(x)))\n",
    "plt.legend()\n",
    "plt.show()"
   ]
  },
  {
   "cell_type": "code",
   "execution_count": null,
   "metadata": {
    "colab": {
     "base_uri": "https://localhost:8080/"
    },
    "executionInfo": {
     "elapsed": 1481,
     "status": "ok",
     "timestamp": 1684328720512,
     "user": {
      "displayName": "Sriharsha Hatwar",
      "userId": "13490491152019938517"
     },
     "user_tz": 240
    },
    "id": "Ph89Vlnfzlfk",
    "outputId": "dccff918-d42d-4a2b-aabf-9d3134fb968a"
   },
   "outputs": [],
   "source": [
    "from google.colab import drive\n",
    "drive.mount('/content/drive')"
   ]
  },
  {
   "cell_type": "code",
   "execution_count": null,
   "metadata": {
    "colab": {
     "base_uri": "https://localhost:8080/",
     "height": 505
    },
    "executionInfo": {
     "elapsed": 446,
     "status": "ok",
     "timestamp": 1684329219199,
     "user": {
      "displayName": "Sriharsha Hatwar",
      "userId": "13490491152019938517"
     },
     "user_tz": 240
    },
    "id": "WeSNCKyloYY4",
    "outputId": "a5db654a-3cd1-4f19-ea47-721f8f18c6f8"
   },
   "outputs": [],
   "source": [
    "# This is for objective 1\n",
    "\n",
    "import pandas as pd \n",
    "import torch\n",
    "import matplotlib.pyplot as plt\n",
    "import numpy as np\n",
    "\n",
    "\n",
    "x = list(range(20))\n",
    "\n",
    "df = pd.read_pickle('/content/drive/MyDrive/COMPSCI 685 Project/objective_one_metrics.pickle')\n",
    "print(df)\n",
    "lst = df['metrics']\n",
    "print(\"len : \", len(lst))\n",
    "y = []\n",
    "for index ,j in enumerate(lst):\n",
    "    if index < 20 : \n",
    "        y.append(j[3])\n",
    "    else:\n",
    "        pass\n",
    "\n",
    "\n",
    "ax1 = plt.subplot()\n",
    "plt.plot(x,y, marker = 'o')\n",
    "plt.xlabel(\"Num of epochs\")\n",
    "plt.ylabel(\"Validation Bleu Score\")\n",
    "ax1.set_xticks(np.arange(len(x)))\n",
    "\n",
    "plt.show()\n"
   ]
  },
  {
   "cell_type": "code",
   "execution_count": null,
   "metadata": {
    "colab": {
     "base_uri": "https://localhost:8080/",
     "height": 1000
    },
    "executionInfo": {
     "elapsed": 3035,
     "status": "ok",
     "timestamp": 1684330503630,
     "user": {
      "displayName": "Sriharsha Hatwar",
      "userId": "13490491152019938517"
     },
     "user_tz": 240
    },
    "id": "MpfjEL3u6i2Z",
    "outputId": "39d02103-e641-43f6-e794-3fdbe8511684"
   },
   "outputs": [],
   "source": [
    "import pandas as pd \n",
    "import torch\n",
    "import matplotlib.pyplot as plt\n",
    "import numpy as np\n",
    "\n",
    "df = pd.read_pickle('/content/drive/MyDrive/COMPSCI 685 Project/objective_one_back_metrics.pickle')\n",
    "title = ['Train Loss', 'Validation Loss', 'Validation Perplexity', 'Validation Bleu Score']\n",
    "label_x = ['Epoch', 'Epoch', 'Epoch', 'Epoch']\n",
    "label_y = ['Train Loss', 'Validation Loss', 'Validation Perplexity', 'Validation Bleu Score']\n",
    "lst = df['metrics']\n",
    "for j in range(0, 4):\n",
    "  val = []\n",
    "  for i in lst:\n",
    "    if torch.is_tensor(i[j]):\n",
    "      val.append(i[j].item())\n",
    "    else:\n",
    "      val.append(i[j])\n",
    "  x = np.arange(0, min(len(val), 20))\n",
    "  y = val[0:len(x)]\n",
    "  if j == 0 : \n",
    "    train_loss = y\n",
    "  elif j == 1:\n",
    "    val_loss = y\n",
    "  ax1 = plt.subplot()\n",
    "  plt.plot(x,y, marker = 'o')\n",
    "  plt.xlabel(label_x[j])\n",
    "  plt.ylabel(label_y[j])\n",
    "  plt.title(title[j])\n",
    "  ax1.set_xticks(np.arange(len(x)))\n",
    "  plt.show()\n"
   ]
  },
  {
   "cell_type": "code",
   "execution_count": null,
   "metadata": {
    "id": "TRmFjhbjAEr9"
   },
   "outputs": [],
   "source": []
  },
  {
   "cell_type": "code",
   "execution_count": null,
   "metadata": {
    "colab": {
     "base_uri": "https://localhost:8080/",
     "height": 1000
    },
    "executionInfo": {
     "elapsed": 1875,
     "status": "ok",
     "timestamp": 1684331582346,
     "user": {
      "displayName": "Sriharsha Hatwar",
      "userId": "13490491152019938517"
     },
     "user_tz": 240
    },
    "id": "hgfzPLem6rGz",
    "outputId": "abef7afb-f9e7-419e-dd40-f1ac3742ddc3"
   },
   "outputs": [],
   "source": [
    "import pandas as pd \n",
    "import torch\n",
    "import matplotlib.pyplot as plt\n",
    "import numpy as np\n",
    "\n",
    "df = pd.read_pickle('/content/drive/MyDrive/COMPSCI 685 Project/objective_two_metrics.pickle')\n",
    "title = ['Train Loss', 'Validation Loss', 'Validation Perplexity', 'Validation Bleu Score']\n",
    "label_x = ['Epoch', 'Epoch', 'Epoch', 'Epoch']\n",
    "label_y = ['Train Loss', 'Validation Loss', 'Validation Perplexity', 'Validation Bleu Score']\n",
    "lst = df['metrics']\n",
    "train_loss = None\n",
    "val_loss = None\n",
    "for j in range(0, 3):\n",
    "  val = []\n",
    "  for i in lst:\n",
    "    if torch.is_tensor(i[j]):\n",
    "      val.append(i[j].item())\n",
    "    else:\n",
    "      val.append(i[j])\n",
    "  x = np.arange(0, min(len(val), 20))\n",
    "  y = val[0:len(x)]\n",
    "  if j == 0 : \n",
    "    train_loss = y\n",
    "  elif j == 1:\n",
    "    val_loss = y\n",
    "  ax1 = plt.subplot()\n",
    "  plt.plot(x,y, marker = 'o')\n",
    "  plt.xlabel(label_x[j])\n",
    "  plt.ylabel(label_y[j])\n",
    "  plt.title(title[j])\n",
    "  ax1.set_xticks(np.arange(len(x)))\n",
    "  plt.show()\n"
   ]
  },
  {
   "cell_type": "code",
   "execution_count": null,
   "metadata": {
    "colab": {
     "base_uri": "https://localhost:8080/",
     "height": 472
    },
    "executionInfo": {
     "elapsed": 5,
     "status": "ok",
     "timestamp": 1684331637142,
     "user": {
      "displayName": "Sriharsha Hatwar",
      "userId": "13490491152019938517"
     },
     "user_tz": 240
    },
    "id": "1ZtcyjsK-8ap",
    "outputId": "2afaa20f-e77f-433f-c6db-43c584d6e6a7"
   },
   "outputs": [],
   "source": [
    "train_loss\n",
    "val_loss\n",
    "x = list(range(len(train_loss)))\n",
    "ax1 = plt.subplot()\n",
    "plt.plot(x, train_loss, marker = 'o', label=\"Train loss\")\n",
    "plt.plot(x, val_loss, marker = 'x', label=\"Val loss\")\n",
    "plt.xlabel(\"No of epochs\")\n",
    "plt.ylabel(\"Train / Val loss\")\n",
    "plt.title(\"Objective - 2\")\n",
    "ax1.set_xticks(np.arange(len(x)))\n",
    "plt.legend()\n",
    "plt.show()\n"
   ]
  },
  {
   "cell_type": "code",
   "execution_count": null,
   "metadata": {
    "colab": {
     "base_uri": "https://localhost:8080/",
     "height": 472
    },
    "executionInfo": {
     "elapsed": 5,
     "status": "ok",
     "timestamp": 1684331314615,
     "user": {
      "displayName": "Sriharsha Hatwar",
      "userId": "13490491152019938517"
     },
     "user_tz": 240
    },
    "id": "mZNCfxCo7I3H",
    "outputId": "88ee3c30-2dd5-4aae-8444-b2876c77c033"
   },
   "outputs": [],
   "source": [
    "# getting it from the logs\n",
    "train_loss = [0.3157,  0.0418, 0.0250, 0.0166, 0.0120]\n",
    "val_loss = [0.0056, 0.0029, 0.00171, 0.0014, 0.0010]\n",
    "x = list(range(5))\n",
    "ax1 = plt.subplot()\n",
    "plt.plot(x, train_loss, marker = 'o', label=\"Train loss\")\n",
    "plt.plot(x, val_loss, marker = 'x', label=\"Val loss\")\n",
    "plt.xlabel(\"No of epochs\")\n",
    "plt.ylabel(\"Train / Val loss\")\n",
    "plt.title(\"Objective - 3\")\n",
    "ax1.set_xticks(np.arange(len(x)))\n",
    "plt.legend()\n",
    "plt.show()\n"
   ]
  },
  {
   "cell_type": "code",
   "execution_count": null,
   "metadata": {
    "id": "KWjKiC1e9oDk"
   },
   "outputs": [],
   "source": []
  }
 ],
 "metadata": {
  "colab": {
   "provenance": []
  },
  "kernelspec": {
   "display_name": "Python 3 (ipykernel)",
   "language": "python",
   "name": "python3"
  },
  "language_info": {
   "codemirror_mode": {
    "name": "ipython",
    "version": 3
   },
   "file_extension": ".py",
   "mimetype": "text/x-python",
   "name": "python",
   "nbconvert_exporter": "python",
   "pygments_lexer": "ipython3",
   "version": "3.10.6"
  }
 },
 "nbformat": 4,
 "nbformat_minor": 1
}
